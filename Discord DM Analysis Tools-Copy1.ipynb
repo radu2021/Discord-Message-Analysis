{
 "cells": [
  {
   "cell_type": "code",
   "execution_count": null,
   "id": "21b556fd",
   "metadata": {},
   "outputs": [],
   "source": [
    "import pandas as pd\n",
    "import numpy as np\n",
    "import requests\n",
    "import shutil\n",
    "from tqdm import tqdm\n",
    "import os\n",
    "import matplotlib.pyplot as plt"
   ]
  },
  {
   "cell_type": "code",
   "execution_count": null,
   "id": "fb162543",
   "metadata": {},
   "outputs": [],
   "source": [
    "messages = pd.read_csv(\"messages.csv\")\n",
    "messages"
   ]
  },
  {
   "cell_type": "markdown",
   "id": "08bf2b37",
   "metadata": {},
   "source": [
    "**Download Attachments:**"
   ]
  },
  {
   "cell_type": "code",
   "execution_count": null,
   "id": "dbbd8d8c",
   "metadata": {},
   "outputs": [],
   "source": [
    "urls = messages[\"Attachments\"].unique()\n",
    "urls_list = urls.tolist()"
   ]
  },
  {
   "cell_type": "code",
   "execution_count": null,
   "id": "c9bd4619",
   "metadata": {},
   "outputs": [],
   "source": [
    "unknown_number = 1\n",
    "for i in tqdm(range(len(urls_list)-1)):    \n",
    "    # Set up the image URL and filename\n",
    "    image_url = urls_list[i+1]\n",
    "    filename = image_url.split(\"/\")[-1]\n",
    "    if filename == \"unknown.png\":\n",
    "        filename = \"unknown\"+ str(unknown_number) +\".png\"\n",
    "        unknown_number = unknown_number+1\n",
    "        \n",
    "    file_path = os.path.join(\"Attachments\", filename)\n",
    "\n",
    "    # Open the url image, set stream to True, this will return the stream content.\n",
    "    r = requests.get(image_url, stream = True)\n",
    "\n",
    "    # Check if the image was retrieved successfully\n",
    "    try:\n",
    "        \n",
    "        if r.status_code == 200 or r.status_code == 304:\n",
    "            # Set decode_content value to True, otherwise the downloaded image file's size will be zero.\n",
    "            r.raw.decode_content = True\n",
    "\n",
    "            # Open a local file with wb ( write binary ) permission.\n",
    "            with open(file_path,'wb') as f:\n",
    "                shutil.copyfileobj(r.raw, f)\n",
    "        else:\n",
    "            print(image_url)\n",
    "\n",
    "#         print('Image sucessfully Downloaded: ',filename)\n",
    "    except:\n",
    "#         print('Image Couldn\\'t be retreived')\n",
    "#         print(\"it broke\")\n",
    "        print(image_url)\n",
    "        continue \n",
    "\n"
   ]
  },
  {
   "cell_type": "markdown",
   "id": "7a86c481",
   "metadata": {},
   "source": [
    "**Word Frequency Distribution:**"
   ]
  },
  {
   "cell_type": "code",
   "execution_count": null,
   "id": "3ee75f5b",
   "metadata": {},
   "outputs": [],
   "source": [
    "words_list = messages[\"Contents\"].to_list()\n",
    "cleaned_words_list = []\n",
    "for i in range(len(words_list)):\n",
    "    if \"http://\" not in str(words_list[i]) and \"https://\" not in str(words_list[i]) and \"```\" not in str(words_list[i]) and \"NaN\" not in str(words_list[i]):\n",
    "#         print(words_list[i])\n",
    "        cleaned_words_list.append(words_list[i])\n",
    "# cleaned_words_list"
   ]
  },
  {
   "cell_type": "code",
   "execution_count": null,
   "id": "ad23e7a0",
   "metadata": {},
   "outputs": [],
   "source": [
    "words_str = \"\"\n",
    "for i in range(len(cleaned_words_list)):\n",
    "    words_str = words_str + \" \" + str(cleaned_words_list[i])\n",
    "    words_str = words_str.lower()\n",
    "\n",
    "test = list(words_str.split())\n",
    "unique = test\n",
    "\n",
    "unique.remove(\"i\")\n",
    "unique.remove(\"to\")\n",
    "unique.remove(\"the\")\n",
    "unique.remove(\"so\")\n",
    "unique.remove(\"it\")\n",
    "\n",
    "unique = list(dict.fromkeys(unique))\n",
    "times_mentioned = []\n",
    "\n",
    "for i in range(len(unique)):\n",
    "#     print(unique[i], test.count(unique[i]))\n",
    "    times_mentioned.append(test.count(unique[i]))\n",
    "    \n",
    "word_frequency_dict = {\"Word\": unique, \"Frequency\": times_mentioned}\n",
    "word_frequency = pd.DataFrame.from_dict(word_frequency_dict)\n",
    "word_frequency.sort_values(by=['Frequency'], inplace=True, ascending=False)\n",
    "word_frequency = word_frequency[word_frequency[\"Word\"].str.contains(\"nan\") == False]\n",
    "word_frequency.head()"
   ]
  },
  {
   "cell_type": "code",
   "execution_count": null,
   "id": "2fa3f893",
   "metadata": {},
   "outputs": [],
   "source": [
    "#generate a bar chart\n",
    "plt.rcParams[\"figure.figsize\"] = (10, 7)\n",
    "ax = word_frequency.head().plot.bar(x='Word', y='Frequency', rot=0, legend=False)\n",
    "ax.set_ylabel(\"Frequency\")\n",
    "ax.set_xlabel(\"Word\")\n",
    "plt.title(\"Frequency the 5 most common words appear\")"
   ]
  },
  {
   "cell_type": "markdown",
   "id": "2ff6f0e1",
   "metadata": {},
   "source": [
    "**When do words appear?**"
   ]
  },
  {
   "cell_type": "code",
   "execution_count": null,
   "id": "8772da38",
   "metadata": {},
   "outputs": [],
   "source": [
    "datetest = messages.copy()\n",
    "# datetest[\"Timestamp\"] = pd.to_datetime(datetest['Timestamp'])\n",
    "datetest['Day'] = datetest['Timestamp'].str.slice(0,10)\n",
    "datetest"
   ]
  },
  {
   "cell_type": "code",
   "execution_count": null,
   "id": "986b69c4",
   "metadata": {},
   "outputs": [],
   "source": [
    "grouped = datetest.groupby(datetest.Day)\n",
    "# dates_list = grouped[\"Day\"].to_list()\n",
    "df_new = grouped.get_group(\"2022-04-28\")\n",
    "# df_new\n",
    "# dates_list\n",
    "# grouped[\"Day\"]"
   ]
  },
  {
   "cell_type": "code",
   "execution_count": null,
   "id": "55e24818",
   "metadata": {},
   "outputs": [],
   "source": [
    "df_newnew = datetest.copy()\n",
    "# df_newnew['Changed'] = df_newnew['Day'] == df_newnew['Day'].shift(1).fillna(df_newnew['Day'])\n",
    "# df_newnew[\"Changed\"] = ~df_newnew[\"Changed\"]\n",
    "df_newnew.head(20)\n",
    "df_newnew\n",
    "# test = df_newnew.index[df_newnew['Changed']==True].tolist()\n",
    "# test"
   ]
  },
  {
   "cell_type": "code",
   "execution_count": null,
   "id": "1e5389bd",
   "metadata": {},
   "outputs": [],
   "source": [
    "# df_new['changed'] = df_new['Day'].ne(df_new['Day'].shift().bfill()).astype(int)\n",
    "# df_new"
   ]
  },
  {
   "cell_type": "code",
   "execution_count": null,
   "id": "d1047d1f",
   "metadata": {},
   "outputs": [],
   "source": [
    "# df_diff = df_new.diff()\n",
    "# df_res = pd.DataFrame()\n",
    "# df_res['start'] = df_diff[df_diff==1].index\n",
    "# df_res['end'] = df_diff[df_diff==-1].index -1\n",
    "# df_res"
   ]
  },
  {
   "cell_type": "code",
   "execution_count": null,
   "id": "5de4ea6f",
   "metadata": {},
   "outputs": [],
   "source": [
    "# df_new.index[df_new['Day'] == \"22-04-28\"].tolist()"
   ]
  },
  {
   "cell_type": "code",
   "execution_count": null,
   "id": "546d006f",
   "metadata": {},
   "outputs": [],
   "source": [
    "word_to_find = \"my\""
   ]
  },
  {
   "cell_type": "code",
   "execution_count": null,
   "id": "d0ebdd80",
   "metadata": {},
   "outputs": [],
   "source": [
    "#does everything here, todo is make a list of the unique days and iterate through it adding the number of times the word is mentioned to the dataframe \"when_mentioned\". then repeat until every day has been checked and graph the results with matplotlib. most of the other stuff was testing to achieve this goal. 13/05/2022 CS 10:22AM\n",
    "# for i in range    \n",
    "words_list = df_new[\"Contents\"].to_list()\n",
    "cleaned_words_list = []\n",
    "for i in range(len(words_list)):\n",
    "    if \"http://\" not in str(words_list[i]) and \"https://\" not in str(words_list[i]) and \"```\" not in str(words_list[i]) and \"NaN\" not in str(words_list[i]):\n",
    "#         print(words_list[i])\n",
    "        cleaned_words_list.append(words_list[i])\n",
    "# cleaned_words_list\n",
    "words_str = \"\"\n",
    "for i in range(len(cleaned_words_list)):\n",
    "    words_str = words_str + \" \" + str(cleaned_words_list[i])\n",
    "    words_str = words_str.lower()\n",
    "\n",
    "test = list(words_str.split())\n",
    "unique = test\n",
    "unique = list(dict.fromkeys(unique))\n",
    "times_mentioned = []\n",
    "\n",
    "for i in range(len(unique)):\n",
    "#     print(unique[i], test.count(unique[i]))\n",
    "    times_mentioned.append(test.count(unique[i]))\n",
    "\n",
    "word_frequency_dict = {\"Word\": unique, \"Frequency\": times_mentioned}\n",
    "word_frequency = pd.DataFrame.from_dict(word_frequency_dict)\n",
    "word_frequency.sort_values(by=['Frequency'], inplace=True, ascending=False)\n",
    "word_frequency = word_frequency[word_frequency[\"Word\"].str.contains(\"nan\") == False]\n",
    "when_mentioned = word_frequency[word_frequency[\"Word\"].str.contains(word_to_find)]\n",
    "# word_frequency.head()\n",
    "when_mentioned"
   ]
  },
  {
   "cell_type": "code",
   "execution_count": null,
   "id": "dc1f4c2e",
   "metadata": {},
   "outputs": [],
   "source": []
  },
  {
   "cell_type": "code",
   "execution_count": null,
   "id": "76352732",
   "metadata": {},
   "outputs": [],
   "source": [
    "unique.remove(\"i\")"
   ]
  },
  {
   "cell_type": "code",
   "execution_count": null,
   "id": "93108b4c",
   "metadata": {},
   "outputs": [],
   "source": [
    "unique"
   ]
  },
  {
   "cell_type": "code",
   "execution_count": null,
   "id": "15c665f7",
   "metadata": {},
   "outputs": [],
   "source": [
    "# df = pd.Series({0:0,1:1,2:1,3:1,4:0,5:0,6:1,7:1,8:0,9:1,10:0,11:0,12:1,13:1,14:0})"
   ]
  },
  {
   "cell_type": "code",
   "execution_count": null,
   "id": "dae41aab",
   "metadata": {},
   "outputs": [],
   "source": [
    "# df_diff = df.diff()\n",
    "# df_res = pd.DataFrame()\n",
    "# df_res['start'] = df_diff[df_diff==1].index\n",
    "# df_res['end'] = df_diff[df_diff==-1].index -1\n",
    "# df_res"
   ]
  },
  {
   "cell_type": "code",
   "execution_count": null,
   "id": "d22ff739",
   "metadata": {},
   "outputs": [],
   "source": []
  },
  {
   "cell_type": "code",
   "execution_count": null,
   "id": "c666163e",
   "metadata": {},
   "outputs": [],
   "source": [
    "filename = \"test.png\"\n",
    "\n",
    "        \n",
    "file_path = os.path.join(\"Attachments\", filename)\n",
    "\n",
    "# Open the url image, set stream to True, this will return the stream content.\n",
    "r = requests.get(\"url\", stream = True)\n",
    "\n",
    "# Check if the image was retrieved successfully\n",
    "if r.status_code == 200:\n",
    "    # Set decode_content value to True, otherwise the downloaded image file's size will be zero.\n",
    "    r.raw.decode_content = True\n",
    "\n",
    "    # Open a local file with wb ( write binary ) permission.\n",
    "    with open(file_path,'wb') as f:\n",
    "        shutil.copyfileobj(r.raw, f)\n"
   ]
  }
 ],
 "metadata": {
  "kernelspec": {
   "display_name": "Python 3",
   "language": "python",
   "name": "python3"
  },
  "language_info": {
   "codemirror_mode": {
    "name": "ipython",
    "version": 3
   },
   "file_extension": ".py",
   "mimetype": "text/x-python",
   "name": "python",
   "nbconvert_exporter": "python",
   "pygments_lexer": "ipython3",
   "version": "3.9.0"
  }
 },
 "nbformat": 4,
 "nbformat_minor": 5
}
